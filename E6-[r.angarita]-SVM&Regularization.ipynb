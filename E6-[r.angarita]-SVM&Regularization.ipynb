{
 "cells": [
  {
   "cell_type": "markdown",
   "metadata": {},
   "source": [
    "# Exercise 6\n",
    "\n",
    "## SVM & Regularization\n",
    "\n",
    "\n",
    "For this homework we consider a set of observations on a number of red and white wine varieties involving their chemical properties and ranking by tasters. Wine industry shows a recent growth spurt as social drinking is on the rise. The price of wine depends on a rather abstract concept of wine appreciation by wine tasters, opinion among whom may have a high degree of variability. Pricing of wine depends on such a volatile factor to some extent. Another key factor in wine certification and quality assessment is physicochemical tests which are laboratory-based and takes into account factors like acidity, pH level, presence of sugar and other chemical properties. For the wine market, it would be of interest if human quality of tasting can be related to the chemical properties of wine so that certification and quality assessment and assurance process is more controlled.\n",
    "\n",
    "Two datasets are available of which one dataset is on red wine and have 1599 different varieties and the other is on white wine and have 4898 varieties. All wines are produced in a particular area of Portugal. Data are collected on 12 different properties of the wines one of which is Quality, based on sensory data, and the rest are on chemical properties of the wines including density, acidity, alcohol content etc. All chemical properties of wines are continuous variables. Quality is an ordinal variable with possible ranking from 1 (worst) to 10 (best). Each variety of wine is tasted by three independent tasters and the final rank assigned is the median rank given by the tasters.\n",
    "\n",
    "A predictive model developed on this data is expected to provide guidance to vineyards regarding quality and price expected on their produce without heavy reliance on volatility of wine tasters."
   ]
  },
  {
   "cell_type": "code",
   "execution_count": 1108,
   "metadata": {},
   "outputs": [],
   "source": [
    "import pandas as pd\n",
    "import seaborn as sns\n",
    "import numpy as np\n",
    "import matplotlib.pyplot as plt\n",
    "from sklearn.ensemble import RandomForestClassifier\n",
    "from sklearn import metrics\n",
    "from sklearn.svm import SVC\n",
    "from sklearn.linear_model import SGDClassifier, Ridge, Lasso, LogisticRegression\n",
    "from sklearn.metrics import confusion_matrix, classification_report, f1_score\n",
    "from sklearn.preprocessing import StandardScaler, LabelEncoder\n",
    "from sklearn.model_selection import train_test_split, GridSearchCV, cross_val_score\n",
    "from sklearn.cross_validation import train_test_split\n",
    "from sklearn.linear_model import LinearRegression\n",
    "%matplotlib inline"
   ]
  },
  {
   "cell_type": "code",
   "execution_count": 1109,
   "metadata": {},
   "outputs": [],
   "source": [
    "data_r = pd.read_csv('https://github.com/albahnsen/PracticalMachineLearningClass/raw/master/datasets/Wine_data_red.csv')\n",
    "data_w = pd.read_csv('https://github.com/albahnsen/PracticalMachineLearningClass/raw/master/datasets/Wine_data_white.csv')"
   ]
  },
  {
   "cell_type": "code",
   "execution_count": 1110,
   "metadata": {},
   "outputs": [
    {
     "data": {
      "text/html": [
       "<div>\n",
       "<style scoped>\n",
       "    .dataframe tbody tr th:only-of-type {\n",
       "        vertical-align: middle;\n",
       "    }\n",
       "\n",
       "    .dataframe tbody tr th {\n",
       "        vertical-align: top;\n",
       "    }\n",
       "\n",
       "    .dataframe thead th {\n",
       "        text-align: right;\n",
       "    }\n",
       "</style>\n",
       "<table border=\"1\" class=\"dataframe\">\n",
       "  <thead>\n",
       "    <tr style=\"text-align: right;\">\n",
       "      <th></th>\n",
       "      <th>fixed acidity</th>\n",
       "      <th>volatile acidity</th>\n",
       "      <th>citric acid</th>\n",
       "      <th>residual sugar</th>\n",
       "      <th>chlorides</th>\n",
       "      <th>free sulfur dioxide</th>\n",
       "      <th>total sulfur dioxide</th>\n",
       "      <th>density</th>\n",
       "      <th>pH</th>\n",
       "      <th>sulphates</th>\n",
       "      <th>alcohol</th>\n",
       "      <th>quality</th>\n",
       "      <th>type</th>\n",
       "    </tr>\n",
       "  </thead>\n",
       "  <tbody>\n",
       "    <tr>\n",
       "      <th>3979</th>\n",
       "      <td>6.5</td>\n",
       "      <td>0.290</td>\n",
       "      <td>0.52</td>\n",
       "      <td>1.7</td>\n",
       "      <td>0.034</td>\n",
       "      <td>41.0</td>\n",
       "      <td>193.0</td>\n",
       "      <td>0.99223</td>\n",
       "      <td>3.25</td>\n",
       "      <td>0.59</td>\n",
       "      <td>10.4</td>\n",
       "      <td>6</td>\n",
       "      <td>white</td>\n",
       "    </tr>\n",
       "    <tr>\n",
       "      <th>6462</th>\n",
       "      <td>7.2</td>\n",
       "      <td>0.695</td>\n",
       "      <td>0.13</td>\n",
       "      <td>2.0</td>\n",
       "      <td>0.076</td>\n",
       "      <td>12.0</td>\n",
       "      <td>20.0</td>\n",
       "      <td>0.99546</td>\n",
       "      <td>3.29</td>\n",
       "      <td>0.54</td>\n",
       "      <td>10.1</td>\n",
       "      <td>5</td>\n",
       "      <td>red</td>\n",
       "    </tr>\n",
       "    <tr>\n",
       "      <th>4178</th>\n",
       "      <td>5.8</td>\n",
       "      <td>0.190</td>\n",
       "      <td>0.33</td>\n",
       "      <td>4.2</td>\n",
       "      <td>0.038</td>\n",
       "      <td>49.0</td>\n",
       "      <td>133.0</td>\n",
       "      <td>0.99107</td>\n",
       "      <td>3.16</td>\n",
       "      <td>0.42</td>\n",
       "      <td>11.3</td>\n",
       "      <td>7</td>\n",
       "      <td>white</td>\n",
       "    </tr>\n",
       "    <tr>\n",
       "      <th>4554</th>\n",
       "      <td>6.0</td>\n",
       "      <td>0.230</td>\n",
       "      <td>0.34</td>\n",
       "      <td>1.3</td>\n",
       "      <td>0.025</td>\n",
       "      <td>23.0</td>\n",
       "      <td>111.0</td>\n",
       "      <td>0.98961</td>\n",
       "      <td>3.36</td>\n",
       "      <td>0.37</td>\n",
       "      <td>12.7</td>\n",
       "      <td>6</td>\n",
       "      <td>white</td>\n",
       "    </tr>\n",
       "    <tr>\n",
       "      <th>1367</th>\n",
       "      <td>7.6</td>\n",
       "      <td>0.270</td>\n",
       "      <td>0.24</td>\n",
       "      <td>3.8</td>\n",
       "      <td>0.058</td>\n",
       "      <td>19.0</td>\n",
       "      <td>115.0</td>\n",
       "      <td>0.99580</td>\n",
       "      <td>3.15</td>\n",
       "      <td>0.45</td>\n",
       "      <td>8.9</td>\n",
       "      <td>5</td>\n",
       "      <td>white</td>\n",
       "    </tr>\n",
       "  </tbody>\n",
       "</table>\n",
       "</div>"
      ],
      "text/plain": [
       "      fixed acidity  volatile acidity  citric acid  residual sugar  chlorides  \\\n",
       "3979            6.5             0.290         0.52             1.7      0.034   \n",
       "6462            7.2             0.695         0.13             2.0      0.076   \n",
       "4178            5.8             0.190         0.33             4.2      0.038   \n",
       "4554            6.0             0.230         0.34             1.3      0.025   \n",
       "1367            7.6             0.270         0.24             3.8      0.058   \n",
       "\n",
       "      free sulfur dioxide  total sulfur dioxide  density    pH  sulphates  \\\n",
       "3979                 41.0                 193.0  0.99223  3.25       0.59   \n",
       "6462                 12.0                  20.0  0.99546  3.29       0.54   \n",
       "4178                 49.0                 133.0  0.99107  3.16       0.42   \n",
       "4554                 23.0                 111.0  0.98961  3.36       0.37   \n",
       "1367                 19.0                 115.0  0.99580  3.15       0.45   \n",
       "\n",
       "      alcohol  quality   type  \n",
       "3979     10.4        6  white  \n",
       "6462     10.1        5    red  \n",
       "4178     11.3        7  white  \n",
       "4554     12.7        6  white  \n",
       "1367      8.9        5  white  "
      ]
     },
     "execution_count": 1110,
     "metadata": {},
     "output_type": "execute_result"
    }
   ],
   "source": [
    "data = data_w.assign(type = 'white')\n",
    "\n",
    "data = data.append(data_r.assign(type = 'red'), ignore_index=True)\n",
    "data.sample(5)"
   ]
  },
  {
   "cell_type": "markdown",
   "metadata": {},
   "source": [
    "# Exercise 6.1\n",
    "\n",
    "Show the frecuency table of the quality by type of wine"
   ]
  },
  {
   "cell_type": "code",
   "execution_count": 1111,
   "metadata": {},
   "outputs": [
    {
     "data": {
      "text/plain": [
       "type   quality\n",
       "red    3            10\n",
       "       4            53\n",
       "       5           681\n",
       "       6           638\n",
       "       7           199\n",
       "       8            18\n",
       "white  3            20\n",
       "       4           163\n",
       "       5          1457\n",
       "       6          2198\n",
       "       7           880\n",
       "       8           175\n",
       "       9             5\n",
       "Name: pH, dtype: int64"
      ]
     },
     "execution_count": 1111,
     "metadata": {},
     "output_type": "execute_result"
    }
   ],
   "source": [
    "data.groupby([\"type\",\"quality\"]).count()[\"pH\"]"
   ]
  },
  {
   "cell_type": "code",
   "execution_count": 1112,
   "metadata": {},
   "outputs": [
    {
     "data": {
      "text/plain": [
       "Text(0,0.5,'Cantidad')"
      ]
     },
     "execution_count": 1112,
     "metadata": {},
     "output_type": "execute_result"
    },
    {
     "data": {
      "image/png": "[encoded data removed]",
      "text/plain": [
       "<Figure size 432x288 with 1 Axes>"
      ]
     },
     "metadata": {},
     "output_type": "display_data"
    }
   ],
   "source": [
    "counts.plot(kind=\"bar\", title=\"Frecuencia por tipo de vino y calidad\", color=[\"gray\"])\n",
    "\n",
    "plt.xlabel(\"Calidad y tipo de vino\") \n",
    "plt.ylabel(\"Cantidad\")"
   ]
  },
  {
   "cell_type": "markdown",
   "metadata": {},
   "source": [
    "# SVM (Support Vector Machines)"
   ]
  },
  {
   "cell_type": "markdown",
   "metadata": {},
   "source": [
    "# Exercise 6.2\n",
    "\n",
    "* Standarized the features (not the quality)\n",
    "* Create a binary target for each type of wine\n",
    "* Create two Linear SVM's for the white and red wines, repectively.\n"
   ]
  },
  {
   "cell_type": "markdown",
   "metadata": {},
   "source": [
    "### Estandarizar las caracteristicas, excepto la calidad"
   ]
  },
  {
   "cell_type": "code",
   "execution_count": 1113,
   "metadata": {},
   "outputs": [],
   "source": [
    "data_w[['fixed acidity','volatile acidity','citric acid','residual sugar','chlorides','free sulfur dioxide','total sulfur dioxide','density','pH','sulphates','alcohol']] = StandardScaler().fit_transform(data_w[['fixed acidity','volatile acidity','citric acid','residual sugar','chlorides','free sulfur dioxide','total sulfur dioxide','density','pH','sulphates','alcohol']])\n",
    "data_r[['fixed acidity','volatile acidity','citric acid','residual sugar','chlorides','free sulfur dioxide','total sulfur dioxide','density','pH','sulphates','alcohol']] = StandardScaler().fit_transform(data_r[['fixed acidity','volatile acidity','citric acid','residual sugar','chlorides','free sulfur dioxide','total sulfur dioxide','density','pH','sulphates','alcohol']])"
   ]
  },
  {
   "cell_type": "code",
   "execution_count": 1114,
   "metadata": {},
   "outputs": [
    {
     "data": {
      "text/plain": [
       "white    4898\n",
       "red      1599\n",
       "Name: type, dtype: int64"
      ]
     },
     "execution_count": 1114,
     "metadata": {},
     "output_type": "execute_result"
    }
   ],
   "source": [
    "data[\"type\"].value_counts()"
   ]
  },
  {
   "cell_type": "markdown",
   "metadata": {},
   "source": [
    "### Para los vinos Rojos"
   ]
  },
  {
   "cell_type": "code",
   "execution_count": 1115,
   "metadata": {},
   "outputs": [],
   "source": [
    "data_r['quality_bin'] = data_r['quality'] >6"
   ]
  },
  {
   "cell_type": "code",
   "execution_count": 1116,
   "metadata": {},
   "outputs": [
    {
     "data": {
      "text/plain": [
       "False    1382\n",
       "True      217\n",
       "Name: quality_bin, dtype: int64"
      ]
     },
     "execution_count": 1116,
     "metadata": {},
     "output_type": "execute_result"
    }
   ],
   "source": [
    "data_r[\"quality_bin\"].value_counts()"
   ]
  },
  {
   "cell_type": "code",
   "execution_count": 1117,
   "metadata": {},
   "outputs": [
    {
     "data": {
      "text/plain": [
       "Text(0,0.5,'Cantidad')"
      ]
     },
     "execution_count": 1117,
     "metadata": {},
     "output_type": "execute_result"
    },
    {
     "data": {
      "image/png": "[encoded data removed]",
      "text/plain": [
       "<Figure size 432x288 with 1 Axes>"
      ]
     },
     "metadata": {},
     "output_type": "display_data"
    }
   ],
   "source": [
    "sns.countplot(data_r['quality_bin'])\n",
    "plt.xlabel(\"False = Mala calidad ; True = Buena calidad\") \n",
    "plt.ylabel(\"Cantidad\")"
   ]
  },
  {
   "cell_type": "code",
   "execution_count": 1118,
   "metadata": {},
   "outputs": [],
   "source": [
    "X_red = data_r.drop([\"quality\",\"quality_bin\"], axis = 1)\n",
    "y_red = data_r[\"quality_bin\"]"
   ]
  },
  {
   "cell_type": "code",
   "execution_count": 1119,
   "metadata": {},
   "outputs": [
    {
     "data": {
      "text/plain": [
       "SVC(C=1.0, cache_size=200, class_weight=None, coef0=0.0,\n",
       "  decision_function_shape='ovr', degree=3, gamma='auto', kernel='linear',\n",
       "  max_iter=-1, probability=False, random_state=None, shrinking=True,\n",
       "  tol=0.001, verbose=False)"
      ]
     },
     "execution_count": 1119,
     "metadata": {},
     "output_type": "execute_result"
    }
   ],
   "source": [
    "from sklearn.svm import SVC # \"Support Vector Classifier\"\n",
    "clf = SVC(kernel='linear')\n",
    "clf.fit(X_red, y_red)"
   ]
  },
  {
   "cell_type": "markdown",
   "metadata": {},
   "source": [
    "### Para los vinos Blancos"
   ]
  },
  {
   "cell_type": "code",
   "execution_count": 1120,
   "metadata": {},
   "outputs": [],
   "source": [
    "data_w['quality_bin'] = data_w['quality'] >6"
   ]
  },
  {
   "cell_type": "code",
   "execution_count": 1121,
   "metadata": {},
   "outputs": [
    {
     "data": {
      "text/plain": [
       "False    3838\n",
       "True     1060\n",
       "Name: quality_bin, dtype: int64"
      ]
     },
     "execution_count": 1121,
     "metadata": {},
     "output_type": "execute_result"
    }
   ],
   "source": [
    "data_w[\"quality_bin\"].value_counts()"
   ]
  },
  {
   "cell_type": "code",
   "execution_count": 1122,
   "metadata": {},
   "outputs": [
    {
     "data": {
      "text/plain": [
       "Text(0,0.5,'Cantidad')"
      ]
     },
     "execution_count": 1122,
     "metadata": {},
     "output_type": "execute_result"
    },
    {
     "data": {
      "image/png": "[encoded data removed]",
      "text/plain": [
       "<Figure size 432x288 with 1 Axes>"
      ]
     },
     "metadata": {},
     "output_type": "display_data"
    }
   ],
   "source": [
    "sns.countplot(data_w['quality_bin'])\n",
    "plt.xlabel(\"False = Mala calidad ; True = Buena calidad\") \n",
    "plt.ylabel(\"Cantidad\")"
   ]
  },
  {
   "cell_type": "code",
   "execution_count": 1123,
   "metadata": {},
   "outputs": [],
   "source": [
    "X_whi = data_w.drop([\"quality\",\"quality_bin\"], axis = 1)\n",
    "y_whi = data_w['quality_bin']"
   ]
  },
  {
   "cell_type": "code",
   "execution_count": 1124,
   "metadata": {},
   "outputs": [
    {
     "data": {
      "text/plain": [
       "SVC(C=1.0, cache_size=200, class_weight=None, coef0=0.0,\n",
       "  decision_function_shape='ovr', degree=3, gamma='auto', kernel='linear',\n",
       "  max_iter=-1, probability=False, random_state=None, shrinking=True,\n",
       "  tol=0.001, verbose=False)"
      ]
     },
     "execution_count": 1124,
     "metadata": {},
     "output_type": "execute_result"
    }
   ],
   "source": [
    "from sklearn.svm import SVC # \"Support Vector Classifier\"\n",
    "clf = SVC(kernel='linear')\n",
    "clf.fit(X_whi, y_whi)"
   ]
  },
  {
   "cell_type": "markdown",
   "metadata": {},
   "source": [
    "# Exercise 6.3\n",
    "\n",
    "Test the two SVM's using the different kernels (‘poly’, ‘rbf’, ‘sigmoid’)\n"
   ]
  },
  {
   "cell_type": "markdown",
   "metadata": {},
   "source": [
    "### Poly para vino Rojo"
   ]
  },
  {
   "cell_type": "code",
   "execution_count": 1125,
   "metadata": {},
   "outputs": [],
   "source": [
    "X_red_train,X_red_test,y_red_train,y_red_test=train_test_split(X_red,y_red)"
   ]
  },
  {
   "cell_type": "code",
   "execution_count": 1126,
   "metadata": {},
   "outputs": [
    {
     "data": {
      "text/plain": [
       "SVC(C=1.0, cache_size=200, class_weight=None, coef0=0.0,\n",
       "  decision_function_shape='ovr', degree=3, gamma='auto', kernel='poly',\n",
       "  max_iter=-1, probability=False, random_state=None, shrinking=True,\n",
       "  tol=0.001, verbose=False)"
      ]
     },
     "execution_count": 1126,
     "metadata": {},
     "output_type": "execute_result"
    }
   ],
   "source": [
    "clf_poly = SVC(kernel='poly')\n",
    "clf_poly.fit(X_red_train, y_red_train)"
   ]
  },
  {
   "cell_type": "code",
   "execution_count": 1127,
   "metadata": {},
   "outputs": [
    {
     "name": "stdout",
     "output_type": "stream",
     "text": [
      "             precision    recall  f1-score   support\n",
      "\n",
      "      False       0.87      0.98      0.92       338\n",
      "       True       0.65      0.21      0.32        62\n",
      "\n",
      "avg / total       0.84      0.86      0.83       400\n",
      "\n"
     ]
    }
   ],
   "source": [
    "pred_clf_poly = clf_poly.predict(X_red_test)\n",
    "print(classification_report(y_red_test, pred_clf_poly))"
   ]
  },
  {
   "cell_type": "code",
   "execution_count": 1128,
   "metadata": {},
   "outputs": [
    {
     "data": {
      "text/plain": [
       "0.8874166030048384"
      ]
     },
     "execution_count": 1128,
     "metadata": {},
     "output_type": "execute_result"
    }
   ],
   "source": [
    "accuracies = cross_val_score(estimator = clf_poly, X=X_red_train, y=y_red_train, cv=10)\n",
    "accuracies.mean()"
   ]
  },
  {
   "cell_type": "code",
   "execution_count": 1129,
   "metadata": {},
   "outputs": [
    {
     "data": {
      "text/plain": [
       "0.021725404469924773"
      ]
     },
     "execution_count": 1129,
     "metadata": {},
     "output_type": "execute_result"
    }
   ],
   "source": [
    "accuracies.std()"
   ]
  },
  {
   "cell_type": "code",
   "execution_count": 1130,
   "metadata": {},
   "outputs": [
    {
     "data": {
      "text/plain": [
       "0.86"
      ]
     },
     "execution_count": 1130,
     "metadata": {},
     "output_type": "execute_result"
    }
   ],
   "source": [
    "clf_poly.score(X_red_test, y_red_test)"
   ]
  },
  {
   "cell_type": "markdown",
   "metadata": {},
   "source": [
    "### Poly para vino Blanco"
   ]
  },
  {
   "cell_type": "code",
   "execution_count": 1131,
   "metadata": {},
   "outputs": [],
   "source": [
    "X_whi_train,X_whi_test,y_whi_train,y_whi_test=train_test_split(X_whi,y_whi)"
   ]
  },
  {
   "cell_type": "code",
   "execution_count": 1132,
   "metadata": {},
   "outputs": [
    {
     "data": {
      "text/plain": [
       "SVC(C=1.0, cache_size=200, class_weight=None, coef0=0.0,\n",
       "  decision_function_shape='ovr', degree=3, gamma='auto', kernel='poly',\n",
       "  max_iter=-1, probability=False, random_state=None, shrinking=True,\n",
       "  tol=0.001, verbose=False)"
      ]
     },
     "execution_count": 1132,
     "metadata": {},
     "output_type": "execute_result"
    }
   ],
   "source": [
    "clf_poly = SVC(kernel='poly')\n",
    "clf_poly.fit(X_whi_train, y_whi_train)"
   ]
  },
  {
   "cell_type": "code",
   "execution_count": 1133,
   "metadata": {},
   "outputs": [
    {
     "name": "stdout",
     "output_type": "stream",
     "text": [
      "             precision    recall  f1-score   support\n",
      "\n",
      "      False       0.80      0.98      0.88       943\n",
      "       True       0.70      0.17      0.27       282\n",
      "\n",
      "avg / total       0.77      0.79      0.74      1225\n",
      "\n"
     ]
    }
   ],
   "source": [
    "pred_clf_poly = clf_poly.predict(X_whi_test)\n",
    "print(classification_report(y_whi_test, pred_clf_poly))"
   ]
  },
  {
   "cell_type": "code",
   "execution_count": 1134,
   "metadata": {},
   "outputs": [
    {
     "data": {
      "text/plain": [
       "0.8088757798424681"
      ]
     },
     "execution_count": 1134,
     "metadata": {},
     "output_type": "execute_result"
    }
   ],
   "source": [
    "accuracies = cross_val_score(estimator = clf_poly, X=X_whi_train, y=y_whi_train, cv=10)\n",
    "accuracies.mean()"
   ]
  },
  {
   "cell_type": "code",
   "execution_count": 1135,
   "metadata": {},
   "outputs": [
    {
     "data": {
      "text/plain": [
       "0.014133160412440738"
      ]
     },
     "execution_count": 1135,
     "metadata": {},
     "output_type": "execute_result"
    }
   ],
   "source": [
    "accuracies.std()"
   ]
  },
  {
   "cell_type": "code",
   "execution_count": 1136,
   "metadata": {},
   "outputs": [
    {
     "data": {
      "text/plain": [
       "0.7918367346938775"
      ]
     },
     "execution_count": 1136,
     "metadata": {},
     "output_type": "execute_result"
    }
   ],
   "source": [
    "clf_poly.score(X_whi_test, y_whi_test)"
   ]
  },
  {
   "cell_type": "markdown",
   "metadata": {},
   "source": [
    "### rbf para vino Rojo"
   ]
  },
  {
   "cell_type": "code",
   "execution_count": 1137,
   "metadata": {},
   "outputs": [
    {
     "data": {
      "text/plain": [
       "SVC(C=1.0, cache_size=200, class_weight=None, coef0=0.0,\n",
       "  decision_function_shape='ovr', degree=3, gamma='auto', kernel='rbf',\n",
       "  max_iter=-1, probability=False, random_state=None, shrinking=True,\n",
       "  tol=0.001, verbose=False)"
      ]
     },
     "execution_count": 1137,
     "metadata": {},
     "output_type": "execute_result"
    }
   ],
   "source": [
    "clf_rbf = SVC(kernel='rbf')\n",
    "clf_rbf.fit(X_red_train, y_red_train)"
   ]
  },
  {
   "cell_type": "code",
   "execution_count": 1138,
   "metadata": {},
   "outputs": [
    {
     "name": "stdout",
     "output_type": "stream",
     "text": [
      "             precision    recall  f1-score   support\n",
      "\n",
      "      False       0.86      0.98      0.92       338\n",
      "       True       0.62      0.16      0.26        62\n",
      "\n",
      "avg / total       0.83      0.85      0.82       400\n",
      "\n"
     ]
    }
   ],
   "source": [
    "pred_clf_rbf = clf_rbf.predict(X_red_test)\n",
    "print(classification_report(y_red_test, pred_clf_rbf))"
   ]
  },
  {
   "cell_type": "code",
   "execution_count": 1139,
   "metadata": {},
   "outputs": [
    {
     "data": {
      "text/plain": [
       "0.8931877213695396"
      ]
     },
     "execution_count": 1139,
     "metadata": {},
     "output_type": "execute_result"
    }
   ],
   "source": [
    "accuracies = cross_val_score(estimator = clf_rbf, X=X_red_train, y=y_red_train, cv=10)\n",
    "accuracies.mean()"
   ]
  },
  {
   "cell_type": "code",
   "execution_count": 1140,
   "metadata": {},
   "outputs": [
    {
     "data": {
      "text/plain": [
       "0.01885242043028057"
      ]
     },
     "execution_count": 1140,
     "metadata": {},
     "output_type": "execute_result"
    }
   ],
   "source": [
    "accuracies.std()"
   ]
  },
  {
   "cell_type": "code",
   "execution_count": 1141,
   "metadata": {},
   "outputs": [
    {
     "data": {
      "text/plain": [
       "0.855"
      ]
     },
     "execution_count": 1141,
     "metadata": {},
     "output_type": "execute_result"
    }
   ],
   "source": [
    "clf_rbf.score(X_red_test, y_red_test)"
   ]
  },
  {
   "cell_type": "markdown",
   "metadata": {},
   "source": [
    "### rbf para vino Blanco"
   ]
  },
  {
   "cell_type": "code",
   "execution_count": 1142,
   "metadata": {},
   "outputs": [
    {
     "data": {
      "text/plain": [
       "SVC(C=1.0, cache_size=200, class_weight=None, coef0=0.0,\n",
       "  decision_function_shape='ovr', degree=3, gamma='auto', kernel='rbf',\n",
       "  max_iter=-1, probability=False, random_state=None, shrinking=True,\n",
       "  tol=0.001, verbose=False)"
      ]
     },
     "execution_count": 1142,
     "metadata": {},
     "output_type": "execute_result"
    }
   ],
   "source": [
    "clf_rbf = SVC(kernel='rbf')\n",
    "clf_rbf.fit(X_whi_train, y_whi_train)"
   ]
  },
  {
   "cell_type": "code",
   "execution_count": 1143,
   "metadata": {},
   "outputs": [
    {
     "name": "stdout",
     "output_type": "stream",
     "text": [
      "             precision    recall  f1-score   support\n",
      "\n",
      "      False       0.83      0.96      0.89       943\n",
      "       True       0.71      0.32      0.44       282\n",
      "\n",
      "avg / total       0.80      0.81      0.79      1225\n",
      "\n"
     ]
    }
   ],
   "source": [
    "pred_clf_rbf = clf_rbf.predict(X_whi_test)\n",
    "print(classification_report(y_whi_test, pred_clf_rbf))"
   ]
  },
  {
   "cell_type": "code",
   "execution_count": 1144,
   "metadata": {},
   "outputs": [
    {
     "data": {
      "text/plain": [
       "0.8273948333433678"
      ]
     },
     "execution_count": 1144,
     "metadata": {},
     "output_type": "execute_result"
    }
   ],
   "source": [
    "accuracies = cross_val_score(estimator = clf_rbf, X=X_whi_train, y=y_whi_train, cv=10)\n",
    "accuracies.mean()"
   ]
  },
  {
   "cell_type": "code",
   "execution_count": 1145,
   "metadata": {},
   "outputs": [
    {
     "data": {
      "text/plain": [
       "0.012489032036327096"
      ]
     },
     "execution_count": 1145,
     "metadata": {},
     "output_type": "execute_result"
    }
   ],
   "source": [
    "accuracies.std()"
   ]
  },
  {
   "cell_type": "code",
   "execution_count": 1146,
   "metadata": {},
   "outputs": [
    {
     "data": {
      "text/plain": [
       "0.8130612244897959"
      ]
     },
     "execution_count": 1146,
     "metadata": {},
     "output_type": "execute_result"
    }
   ],
   "source": [
    "clf_rbf.score(X_whi_test, y_whi_test)"
   ]
  },
  {
   "cell_type": "markdown",
   "metadata": {},
   "source": [
    "### Sigmoid para vino Rojo"
   ]
  },
  {
   "cell_type": "code",
   "execution_count": 1147,
   "metadata": {},
   "outputs": [
    {
     "data": {
      "text/plain": [
       "SVC(C=1.0, cache_size=200, class_weight=None, coef0=0.0,\n",
       "  decision_function_shape='ovr', degree=3, gamma='auto', kernel='sigmoid',\n",
       "  max_iter=-1, probability=False, random_state=None, shrinking=True,\n",
       "  tol=0.001, verbose=False)"
      ]
     },
     "execution_count": 1147,
     "metadata": {},
     "output_type": "execute_result"
    }
   ],
   "source": [
    "clf_sig = SVC(kernel='sigmoid')\n",
    "clf_sig.fit(X_red_train, y_red_train)"
   ]
  },
  {
   "cell_type": "code",
   "execution_count": 1148,
   "metadata": {},
   "outputs": [
    {
     "name": "stdout",
     "output_type": "stream",
     "text": [
      "             precision    recall  f1-score   support\n",
      "\n",
      "      False       0.87      0.93      0.90       338\n",
      "       True       0.39      0.26      0.31        62\n",
      "\n",
      "avg / total       0.80      0.82      0.81       400\n",
      "\n"
     ]
    }
   ],
   "source": [
    "pred_clf_sig = clf_sig.predict(X_red_test)\n",
    "print(classification_report(y_red_test, pred_clf_sig))"
   ]
  },
  {
   "cell_type": "code",
   "execution_count": 1149,
   "metadata": {},
   "outputs": [
    {
     "data": {
      "text/plain": [
       "0.8466715281153785"
      ]
     },
     "execution_count": 1149,
     "metadata": {},
     "output_type": "execute_result"
    }
   ],
   "source": [
    "accuracies = cross_val_score(estimator = clf_sig, X=X_red_train, y=y_red_train, cv=10)\n",
    "accuracies.mean()"
   ]
  },
  {
   "cell_type": "code",
   "execution_count": 1150,
   "metadata": {},
   "outputs": [
    {
     "data": {
      "text/plain": [
       "0.04554600262499452"
      ]
     },
     "execution_count": 1150,
     "metadata": {},
     "output_type": "execute_result"
    }
   ],
   "source": [
    "accuracies.std()"
   ]
  },
  {
   "cell_type": "code",
   "execution_count": 1151,
   "metadata": {},
   "outputs": [
    {
     "data": {
      "text/plain": [
       "0.8225"
      ]
     },
     "execution_count": 1151,
     "metadata": {},
     "output_type": "execute_result"
    }
   ],
   "source": [
    "clf_sig.score(X_red_test, y_red_test)"
   ]
  },
  {
   "cell_type": "markdown",
   "metadata": {},
   "source": [
    "### Sigmoid para vino Blanco"
   ]
  },
  {
   "cell_type": "code",
   "execution_count": 1152,
   "metadata": {},
   "outputs": [
    {
     "data": {
      "text/plain": [
       "SVC(C=1.0, cache_size=200, class_weight=None, coef0=0.0,\n",
       "  decision_function_shape='ovr', degree=3, gamma='auto', kernel='sigmoid',\n",
       "  max_iter=-1, probability=False, random_state=None, shrinking=True,\n",
       "  tol=0.001, verbose=False)"
      ]
     },
     "execution_count": 1152,
     "metadata": {},
     "output_type": "execute_result"
    }
   ],
   "source": [
    "clf_sig = SVC(kernel='sigmoid')\n",
    "clf_sig.fit(X_whi_train, y_whi_train)"
   ]
  },
  {
   "cell_type": "code",
   "execution_count": 1153,
   "metadata": {},
   "outputs": [
    {
     "name": "stdout",
     "output_type": "stream",
     "text": [
      "             precision    recall  f1-score   support\n",
      "\n",
      "      False       0.80      0.83      0.81       943\n",
      "       True       0.34      0.29      0.32       282\n",
      "\n",
      "avg / total       0.69      0.71      0.70      1225\n",
      "\n"
     ]
    }
   ],
   "source": [
    "pred_clf_sig = clf_sig.predict(X_whi_test)\n",
    "print(classification_report(y_whi_test, pred_clf_sig))"
   ]
  },
  {
   "cell_type": "code",
   "execution_count": 1154,
   "metadata": {},
   "outputs": [
    {
     "data": {
      "text/plain": [
       "0.7479031325115573"
      ]
     },
     "execution_count": 1154,
     "metadata": {},
     "output_type": "execute_result"
    }
   ],
   "source": [
    "accuracies = cross_val_score(estimator = clf_sig, X=X_whi_train, y=y_whi_train, cv=10)\n",
    "accuracies.mean()"
   ]
  },
  {
   "cell_type": "code",
   "execution_count": 1155,
   "metadata": {},
   "outputs": [
    {
     "data": {
      "text/plain": [
       "0.012222334754644914"
      ]
     },
     "execution_count": 1155,
     "metadata": {},
     "output_type": "execute_result"
    }
   ],
   "source": [
    "accuracies.std()"
   ]
  },
  {
   "cell_type": "code",
   "execution_count": 1156,
   "metadata": {},
   "outputs": [
    {
     "data": {
      "text/plain": [
       "0.7077551020408164"
      ]
     },
     "execution_count": 1156,
     "metadata": {},
     "output_type": "execute_result"
    }
   ],
   "source": [
    "clf_sig.score(X_whi_test, y_whi_test)"
   ]
  },
  {
   "cell_type": "markdown",
   "metadata": {},
   "source": [
    "# Exercise 6.4\n",
    "Using the best SVM find the parameters that gives the best performance\n",
    "\n",
    "'C': [0.1, 1, 10, 100, 1000], 'gamma': [0.01, 0.001, 0.0001]"
   ]
  },
  {
   "cell_type": "markdown",
   "metadata": {},
   "source": [
    "### El mejor SVM fue: \"rbf para vino Rojo\""
   ]
  },
  {
   "cell_type": "code",
   "execution_count": 1157,
   "metadata": {},
   "outputs": [],
   "source": [
    "param = {\n",
    "    'C': [0.1,1,10,100,1000],\n",
    "    'kernel':[\"rbf\"],\n",
    "    'gamma' :[0.01,0.001,0.0001]\n",
    "}\n",
    "best_svm = GridSearchCV(clf_rbf, param_grid=param, scoring='accuracy', cv=10)"
   ]
  },
  {
   "cell_type": "code",
   "execution_count": 1158,
   "metadata": {},
   "outputs": [
    {
     "data": {
      "text/plain": [
       "GridSearchCV(cv=10, error_score='raise',\n",
       "       estimator=SVC(C=1.0, cache_size=200, class_weight=None, coef0=0.0,\n",
       "  decision_function_shape='ovr', degree=3, gamma='auto', kernel='rbf',\n",
       "  max_iter=-1, probability=False, random_state=None, shrinking=True,\n",
       "  tol=0.001, verbose=False),\n",
       "       fit_params=None, iid=True, n_jobs=1,\n",
       "       param_grid={'C': [0.1, 1, 10, 100, 1000], 'kernel': ['rbf'], 'gamma': [0.01, 0.001, 0.0001]},\n",
       "       pre_dispatch='2*n_jobs', refit=True, return_train_score='warn',\n",
       "       scoring='accuracy', verbose=0)"
      ]
     },
     "execution_count": 1158,
     "metadata": {},
     "output_type": "execute_result"
    }
   ],
   "source": [
    "best_svm.fit(X_red_train, y_red_train)"
   ]
  },
  {
   "cell_type": "code",
   "execution_count": 1159,
   "metadata": {},
   "outputs": [
    {
     "data": {
      "text/plain": [
       "{'C': 10, 'gamma': 0.01, 'kernel': 'rbf'}"
      ]
     },
     "execution_count": 1159,
     "metadata": {},
     "output_type": "execute_result"
    }
   ],
   "source": [
    "best_svm.best_params_"
   ]
  },
  {
   "cell_type": "code",
   "execution_count": 1160,
   "metadata": {},
   "outputs": [
    {
     "data": {
      "text/plain": [
       "0.890742285237698"
      ]
     },
     "execution_count": 1160,
     "metadata": {},
     "output_type": "execute_result"
    }
   ],
   "source": [
    "best_svm.best_score_"
   ]
  },
  {
   "cell_type": "markdown",
   "metadata": {},
   "source": [
    "# Exercise 6.5\n",
    "\n",
    "Compare the results with other methods"
   ]
  },
  {
   "cell_type": "markdown",
   "metadata": {
    "collapsed": true
   },
   "source": [
    "### El score correspondiente al último modelo realizado es más efectivo basados en los resultados anteriores."
   ]
  },
  {
   "cell_type": "markdown",
   "metadata": {},
   "source": [
    "# Regularization"
   ]
  },
  {
   "cell_type": "markdown",
   "metadata": {},
   "source": [
    "# Exercise 6.6\n",
    "\n",
    "\n",
    "* Train a linear regression to predict wine quality (Continous)\n",
    "\n",
    "* Analyze the coefficients\n",
    "\n",
    "* Evaluate the RMSE"
   ]
  },
  {
   "cell_type": "markdown",
   "metadata": {},
   "source": [
    "### Entrenar la regresión lineal multiple para la predicción de la calidad del vino"
   ]
  },
  {
   "cell_type": "code",
   "execution_count": 1161,
   "metadata": {},
   "outputs": [],
   "source": [
    "X_wine = data.drop(['type', 'quality'], axis=1)\n",
    "y_wine = data['quality']"
   ]
  },
  {
   "cell_type": "code",
   "execution_count": 1162,
   "metadata": {},
   "outputs": [],
   "source": [
    "X_wine_train, X_wine_test, y_wine_train, y_wine_test = train_test_split(X_wine, y_wine)"
   ]
  },
  {
   "cell_type": "code",
   "execution_count": 1163,
   "metadata": {},
   "outputs": [
    {
     "name": "stdout",
     "output_type": "stream",
     "text": [
      "[ 6.16327949e-02 -1.42650512e+00 -1.87712524e-01  4.07368457e-02\n",
      " -5.98631369e-01  5.26545541e-03 -2.42732750e-03 -4.99995060e+01\n",
      "  3.64460459e-01  8.45906152e-01  2.65325898e-01]\n"
     ]
    }
   ],
   "source": [
    "linearreg = LinearRegression()\n",
    "linearreg.fit(X_wine_train, y_wine_train)\n",
    "y_wine_pred = linearreg.predict(X_wine_test)\n",
    "\n",
    "print(linearreg.coef_)"
   ]
  },
  {
   "cell_type": "markdown",
   "metadata": {},
   "source": [
    "### Analisis de coeficientes:\n",
    "5 coeficientes hacen que el vino disminuya la calidad\n",
    "6 coeficientes hacen que el vino incremente la calidad "
   ]
  },
  {
   "cell_type": "markdown",
   "metadata": {},
   "source": [
    "### Evaluar RMSE"
   ]
  },
  {
   "cell_type": "code",
   "execution_count": 1164,
   "metadata": {},
   "outputs": [
    {
     "name": "stdout",
     "output_type": "stream",
     "text": [
      "0.726169911754875\n"
     ]
    }
   ],
   "source": [
    "print(np.sqrt(metrics.mean_squared_error(y_wine_test, y_wine_pred)))"
   ]
  },
  {
   "cell_type": "markdown",
   "metadata": {},
   "source": [
    "# Exercise 6.7\n",
    "\n",
    "* Estimate a ridge regression with alpha equals 0.1 and 1.\n",
    "* Compare the coefficients with the linear regression\n",
    "* Evaluate the RMSE"
   ]
  },
  {
   "cell_type": "markdown",
   "metadata": {
    "collapsed": true
   },
   "source": [
    "### Estimar regresión Ridge con a= 0.1"
   ]
  },
  {
   "cell_type": "code",
   "execution_count": 1165,
   "metadata": {},
   "outputs": [
    {
     "name": "stdout",
     "output_type": "stream",
     "text": [
      "[ 2.71515706e-02 -1.24391612e+00 -4.90696404e-02  2.51336619e-02\n",
      " -1.09120460e+00  3.99122050e-03 -1.79476718e-03 -2.93310766e+01\n",
      "  2.04577553e-01  7.27534679e-01  2.54500702e-01]\n"
     ]
    }
   ],
   "source": [
    "ridgereg = Ridge(alpha=0.1, normalize=True)\n",
    "ridgereg.fit(X_wine_train, y_wine_train)\n",
    "y_wine_pred = ridgereg.predict(X_wine_test)\n",
    "print(ridgereg.coef_)"
   ]
  },
  {
   "cell_type": "code",
   "execution_count": 1166,
   "metadata": {},
   "outputs": [
    {
     "name": "stdout",
     "output_type": "stream",
     "text": [
      "0.7288907415495752\n"
     ]
    }
   ],
   "source": [
    "print(np.sqrt(metrics.mean_squared_error(y_wine_test, y_wine_pred)))"
   ]
  },
  {
   "cell_type": "markdown",
   "metadata": {},
   "source": [
    "### Estimar regresión Ridge con a= 1"
   ]
  },
  {
   "cell_type": "code",
   "execution_count": 1167,
   "metadata": {},
   "outputs": [
    {
     "name": "stdout",
     "output_type": "stream",
     "text": [
      "[-3.24682328e-04 -6.15680379e-01  1.48011381e-01  5.19260448e-03\n",
      " -1.37480838e+00  1.31050457e-03 -5.89969890e-04 -2.27925671e+01\n",
      "  6.73303909e-02  3.40516562e-01  1.36257651e-01]\n"
     ]
    }
   ],
   "source": [
    "ridgereg = Ridge(alpha=1, normalize=True)\n",
    "ridgereg.fit(X_wine_train, y_wine_train)\n",
    "y_wine_pred = ridgereg.predict(X_wine_test)\n",
    "print(ridgereg.coef_)"
   ]
  },
  {
   "cell_type": "code",
   "execution_count": 1168,
   "metadata": {},
   "outputs": [
    {
     "name": "stdout",
     "output_type": "stream",
     "text": [
      "0.7623895881535032\n"
     ]
    }
   ],
   "source": [
    "print(np.sqrt(metrics.mean_squared_error(y_wine_test, y_wine_pred)))"
   ]
  },
  {
   "cell_type": "markdown",
   "metadata": {},
   "source": [
    "### Análisis de coeficientes\n",
    "Los coeficientes con a=0.1 son similares a los realizados en la regresión lineal, sin embargo, cuando se modifica el alfa en la regresión Ridge a 1, los coeficientes son bastante distantes de los presentados anteriormente."
   ]
  },
  {
   "cell_type": "markdown",
   "metadata": {},
   "source": [
    "# Exercise 6.8\n",
    "\n",
    "* Estimate a lasso regression with alpha equals 0.01, 0.1 and 1.\n",
    "* Compare the coefficients with the linear regression\n",
    "* Evaluate the RMSE"
   ]
  },
  {
   "cell_type": "markdown",
   "metadata": {},
   "source": [
    "### Estimar regresión Lasso con a= 0.01"
   ]
  },
  {
   "cell_type": "code",
   "execution_count": 1169,
   "metadata": {},
   "outputs": [
    {
     "name": "stdout",
     "output_type": "stream",
     "text": [
      "[-0. -0.  0. -0. -0.  0. -0. -0.  0.  0.  0.]\n"
     ]
    }
   ],
   "source": [
    "lassoreg = Lasso(alpha=0.01, normalize=True)\n",
    "lassoreg.fit(X_wine_train, y_wine_train)\n",
    "y_pred = lassoreg.predict(X_wine_test)\n",
    "print(lassoreg.coef_)"
   ]
  },
  {
   "cell_type": "code",
   "execution_count": 1170,
   "metadata": {},
   "outputs": [
    {
     "name": "stdout",
     "output_type": "stream",
     "text": [
      "0.7623895881535032\n"
     ]
    }
   ],
   "source": [
    "print(np.sqrt(metrics.mean_squared_error(y_wine_test, y_wine_pred)))"
   ]
  },
  {
   "cell_type": "markdown",
   "metadata": {},
   "source": [
    "### Estimar regresión Lasso con a= 0.1"
   ]
  },
  {
   "cell_type": "code",
   "execution_count": 1171,
   "metadata": {},
   "outputs": [
    {
     "name": "stdout",
     "output_type": "stream",
     "text": [
      "[-0. -0.  0. -0. -0.  0. -0. -0.  0.  0.  0.]\n"
     ]
    }
   ],
   "source": [
    "lassoreg = Lasso(alpha=0.1, normalize=True)\n",
    "lassoreg.fit(X_wine_train, y_wine_train)\n",
    "y_pred = lassoreg.predict(X_wine_test)\n",
    "print(lassoreg.coef_)"
   ]
  },
  {
   "cell_type": "code",
   "execution_count": 1172,
   "metadata": {},
   "outputs": [
    {
     "name": "stdout",
     "output_type": "stream",
     "text": [
      "0.7623895881535032\n"
     ]
    }
   ],
   "source": [
    "print(np.sqrt(metrics.mean_squared_error(y_wine_test, y_wine_pred)))"
   ]
  },
  {
   "cell_type": "markdown",
   "metadata": {},
   "source": [
    "### Estimar regresión Lasso con a= 1"
   ]
  },
  {
   "cell_type": "code",
   "execution_count": 1173,
   "metadata": {},
   "outputs": [
    {
     "name": "stdout",
     "output_type": "stream",
     "text": [
      "[-0. -0.  0. -0. -0.  0. -0. -0.  0.  0.  0.]\n"
     ]
    }
   ],
   "source": [
    "lassoreg = Lasso(alpha=1, normalize=True)\n",
    "lassoreg.fit(X_wine_train, y_wine_train)\n",
    "y_pred = lassoreg.predict(X_wine_test)\n",
    "print(lassoreg.coef_)"
   ]
  },
  {
   "cell_type": "code",
   "execution_count": 1174,
   "metadata": {},
   "outputs": [
    {
     "name": "stdout",
     "output_type": "stream",
     "text": [
      "0.7623895881535032\n"
     ]
    }
   ],
   "source": [
    "print(np.sqrt(metrics.mean_squared_error(y_wine_test, y_wine_pred)))"
   ]
  },
  {
   "cell_type": "markdown",
   "metadata": {},
   "source": [
    "### Análisis de coeficientes\n",
    "Los resultados son diametralmente opuestos a los calculados en la regresión lineal son exactamente iguales en los tres casos y de igual manera el RMSE"
   ]
  },
  {
   "cell_type": "markdown",
   "metadata": {},
   "source": [
    "# Exercise 6.9\n",
    "\n",
    "* Create a binary target\n",
    "\n",
    "* Train a logistic regression to predict wine quality (binary)\n",
    "\n",
    "* Analyze the coefficients\n",
    "\n",
    "* Evaluate the f1score"
   ]
  },
  {
   "cell_type": "code",
   "execution_count": 1175,
   "metadata": {},
   "outputs": [
    {
     "name": "stdout",
     "output_type": "stream",
     "text": [
      "[[ 2.19287177e-01  2.21923477e+00 -4.67971705e-01 -9.77437320e-02\n",
      "   2.94738944e-01  2.93503520e-02 -1.61442056e-03 -5.17574361e-01\n",
      "  -5.91883027e-01 -1.09295449e+00 -4.18607449e-01]\n",
      " [-7.89996739e-02  2.41074684e+00 -6.11663482e-02 -3.93569977e-02\n",
      "  -3.59318328e-01 -6.03156679e-02  8.31826526e-03  1.82471466e-01\n",
      "   2.67379208e-01 -2.45477118e+00 -2.76821057e-01]\n",
      " [ 4.75793520e-02  3.16769526e+00  5.44658858e-01 -4.22355968e-02\n",
      "   1.25212345e+00 -1.09879067e-02  6.86154241e-03  2.75026645e+00\n",
      "   4.60505727e-01 -1.32365064e+00 -8.65573703e-01]\n",
      " [-2.75787156e-03 -2.16909683e+00 -4.52128753e-01  2.11128788e-02\n",
      "   1.03228205e-02  5.13858853e-03 -3.70010051e-03 -3.32372308e-01\n",
      "  -4.25353963e-02  5.43641701e-01  1.27174632e-01]\n",
      " [ 1.16144663e-02 -3.63790419e+00 -3.59855701e-01  2.87046696e-02\n",
      "  -1.60523479e+00  7.82832627e-03 -4.90864922e-03 -3.70515610e+00\n",
      "  -3.61173940e-01  1.59797328e+00  6.95284831e-01]\n",
      " [-3.40462098e-01 -1.88237394e+00  1.67375833e-01  6.19199973e-02\n",
      "  -3.94804872e-01  1.69494485e-02 -5.67684078e-03 -1.60006566e+00\n",
      "  -1.73557977e+00  3.86676710e-01  7.06095654e-01]\n",
      " [-3.75278522e-01 -2.98658734e-01  2.52014607e-01 -8.42837111e-02\n",
      "  -1.44322629e-01  1.37157192e-02 -7.49238447e-03 -5.16281309e-01\n",
      "  -1.23636328e+00 -5.03415872e-01  1.80113433e-01]]\n"
     ]
    }
   ],
   "source": [
    "logisticreg = LogisticRegression()\n",
    "logisticreg.fit(X_wine_train, y_wine_train)\n",
    "y_wine_prob = logisticreg.predict_proba(X_wine_test)\n",
    "print(logisticreg.coef_)"
   ]
  },
  {
   "cell_type": "markdown",
   "metadata": {},
   "source": [
    "# Exercise 6.10\n",
    "\n",
    "* Estimate a regularized logistic regression using:\n",
    "* C = 0.01, 0.1 & 1.0\n",
    "* penalty = ['l1, 'l2']\n",
    "* Compare the coefficients and the f1score"
   ]
  },
  {
   "cell_type": "code",
   "execution_count": 1176,
   "metadata": {},
   "outputs": [],
   "source": [
    "ss = StandardScaler()\n",
    "X_train = X_wine_train.astype(float)\n",
    "X_test = X_wine_test.astype(float)\n",
    "ss.fit(X_wine_train)\n",
    "X_wine_train_ss = ss.transform(X_wine_train)\n",
    "X_wine_test_ss = ss.transform(X_wine_test)"
   ]
  },
  {
   "cell_type": "code",
   "execution_count": 1177,
   "metadata": {},
   "outputs": [
    {
     "name": "stdout",
     "output_type": "stream",
     "text": [
      "[[ 0.          0.          0.          0.          0.          0.\n",
      "   0.          0.          0.          0.          0.        ]\n",
      " [ 0.          0.07951     0.          0.          0.          0.\n",
      "   0.          0.          0.          0.          0.        ]\n",
      " [ 0.          0.34606004  0.          0.          0.          0.\n",
      "   0.          0.          0.         -0.03669701 -0.84652743]\n",
      " [ 0.         -0.19593807  0.          0.          0.          0.\n",
      "   0.          0.          0.          0.          0.0763935 ]\n",
      " [ 0.         -0.25305135  0.          0.          0.          0.\n",
      "   0.          0.          0.          0.05803647  0.64841638]\n",
      " [ 0.          0.          0.          0.          0.          0.\n",
      "   0.          0.          0.          0.          0.14984645]\n",
      " [ 0.          0.          0.          0.          0.          0.\n",
      "   0.          0.          0.          0.          0.        ]]\n"
     ]
    }
   ],
   "source": [
    "logisticreg1 = LogisticRegression(C=0.01, penalty='l1',solver='liblinear')\n",
    "logisticreg1.fit(X_wine_train_ss, y_wine_train)\n",
    "print(logisticreg1.coef_)"
   ]
  },
  {
   "cell_type": "code",
   "execution_count": 1178,
   "metadata": {},
   "outputs": [
    {
     "name": "stdout",
     "output_type": "stream",
     "text": [
      "[[ 0.          0.43966176  0.          0.          0.04566766  0.28135052\n",
      "   0.          0.          0.          0.          0.        ]\n",
      " [ 0.          0.44627213  0.          0.         -0.07919807 -0.68465217\n",
      "   0.14598825 -0.13249807  0.         -0.38295935 -0.32144416]\n",
      " [-0.01205289  0.51731347  0.06186825 -0.25163349  0.06330693 -0.15485314\n",
      "   0.32427264  0.09094037 -0.02657284 -0.21195858 -1.00362389]\n",
      " [-0.04474862 -0.39097591 -0.06737128  0.          0.          0.06084659\n",
      "  -0.15184988  0.15700087 -0.01717432  0.04850832  0.22299663]\n",
      " [ 0.20872915 -0.5841847  -0.0262795   0.25301975 -0.22864681  0.08174007\n",
      "  -0.17909217 -0.17680775  0.15433905  0.2776693   0.77949223]\n",
      " [-0.04475338 -0.31074389  0.          0.21671811 -0.04394617  0.15569901\n",
      "   0.          0.          0.          0.          0.86346777]\n",
      " [ 0.          0.          0.          0.          0.          0.\n",
      "   0.          0.          0.          0.          0.        ]]\n"
     ]
    }
   ],
   "source": [
    "logisticreg2 = LogisticRegression(C=0.1, penalty='l1',solver='liblinear')\n",
    "logisticreg2.fit(X_wine_train_ss, y_wine_train)\n",
    "print(logisticreg2.coef_)"
   ]
  },
  {
   "cell_type": "code",
   "execution_count": 1179,
   "metadata": {},
   "outputs": [
    {
     "name": "stdout",
     "output_type": "stream",
     "text": [
      "[[ 0.63352123  0.59547128  0.         -0.01191729  0.3563947   0.46222919\n",
      "   0.17419236 -0.20619575  0.36734439 -0.68021761 -0.07127517]\n",
      " [ 0.02215937  0.57591286  0.06885882  0.         -0.20374869 -0.99918421\n",
      "   0.34807866 -0.36720072  0.10812457 -0.44363568 -0.58124321]\n",
      " [-0.1694671   0.51031046  0.08567649 -0.46248192  0.05432807 -0.19037952\n",
      "   0.38672216  0.39267532 -0.12129347 -0.25891737 -0.89623365]\n",
      " [-0.15796594 -0.43967158 -0.08304628 -0.12761474 -0.01212339  0.08622602\n",
      "  -0.17079979  0.38812536 -0.09532136  0.03881707  0.33766712]\n",
      " [ 0.48458132 -0.59744164 -0.07417473  0.61142019 -0.21380195  0.13374804\n",
      "  -0.28653173 -0.67865349  0.32086394  0.35067288  0.60197128]\n",
      " [ 0.09761484 -0.46800936  0.          0.72175659 -0.13768905  0.27119526\n",
      "  -0.21413517 -0.50604764  0.15179237  0.15255772  0.78763774]\n",
      " [ 0.74961825  0.          0.11985904  0.         -1.98042381  0.05970216\n",
      "   0.         -0.0414746   0.74763714 -0.1543721   0.68208682]]\n"
     ]
    }
   ],
   "source": [
    "logisticreg3 = LogisticRegression(C=1, penalty='l1',solver='liblinear')\n",
    "logisticreg3.fit(X_wine_train_ss, y_wine_train)\n",
    "print(logisticreg3.coef_)"
   ]
  },
  {
   "cell_type": "code",
   "execution_count": 1180,
   "metadata": {},
   "outputs": [
    {
     "name": "stdout",
     "output_type": "stream",
     "text": [
      "[[ 0.04228547  0.0765002  -0.00533821 -0.01875835  0.03632543  0.06864319\n",
      "   0.01910352 -0.00897353  0.02000189 -0.03607368 -0.00191229]\n",
      " [-0.01901327  0.22129104 -0.0061491  -0.04957314 -0.04873955 -0.20168689\n",
      "   0.0432948  -0.04326534  0.00116742 -0.13542529 -0.13725939]\n",
      " [-0.07637057  0.42617491  0.03925781 -0.2660061   0.09452295 -0.12492464\n",
      "   0.27746757  0.23903873 -0.07197574 -0.20565121 -0.75397583]\n",
      " [-0.04136266 -0.34000357 -0.05547513  0.02408628 -0.009622    0.06457956\n",
      "  -0.1504939   0.10399194 -0.02170539  0.06254698  0.18854416]\n",
      " [ 0.15584722 -0.35132746  0.00709251  0.1871752  -0.16980227  0.07840033\n",
      "  -0.15126599 -0.22753901  0.11703741  0.21999233  0.54295706]\n",
      " [-0.01975826 -0.05792166  0.01188801  0.11384365 -0.03610763  0.07251446\n",
      "  -0.03707293 -0.09842644  0.0121857   0.0285614   0.25140798]\n",
      " [ 0.01121421  0.00176311  0.00707298  0.00461599 -0.00672378  0.00405767\n",
      "   0.00110704 -0.01158051  0.01265636 -0.00562513  0.01401354]]\n"
     ]
    }
   ],
   "source": [
    "logisticreg1 = LogisticRegression(C=0.01, penalty='l2',solver='liblinear')\n",
    "logisticreg1.fit(X_wine_train_ss, y_wine_train)\n",
    "print(logisticreg1.coef_)"
   ]
  },
  {
   "cell_type": "code",
   "execution_count": 1181,
   "metadata": {},
   "outputs": [
    {
     "name": "stdout",
     "output_type": "stream",
     "text": [
      "[[ 0.23613313  0.3203429  -0.00988519 -0.05266894  0.15133123  0.26714955\n",
      "   0.08904683 -0.09334836  0.12120359 -0.20393234 -0.02655151]\n",
      " [-0.0143791   0.48061565  0.0486429  -0.06209186 -0.1623497  -0.67316365\n",
      "   0.22727727 -0.2116225   0.05014453 -0.34906654 -0.41217412]\n",
      " [-0.15602291  0.50258461  0.08135723 -0.43369814  0.06133089 -0.18415379\n",
      "   0.37420137  0.36636119 -0.11389924 -0.25316755 -0.88197495]\n",
      " [-0.13482811 -0.42596674 -0.080661   -0.09608018 -0.01176952  0.0862033\n",
      "  -0.1736082   0.33254028 -0.08177821  0.04560077  0.30929072]\n",
      " [ 0.38559751 -0.56557193 -0.06101514  0.47738882 -0.22739449  0.12856122\n",
      "  -0.26009715 -0.50095992  0.26005322  0.32079771  0.63825865]\n",
      " [ 0.02058941 -0.25780785  0.00932572  0.43885074 -0.09561557  0.20961185\n",
      "  -0.1514177  -0.29566035  0.08030124  0.09948455  0.61250829]\n",
      " [ 0.08864342  0.01565855  0.0421202   0.04574632 -0.04440459  0.02698879\n",
      "   0.00616745 -0.08956067  0.09159289 -0.03655882  0.0729168 ]]\n"
     ]
    }
   ],
   "source": [
    "logisticreg2 = LogisticRegression(C=0.1, penalty='l2',solver='liblinear')\n",
    "logisticreg2.fit(X_wine_train_ss, y_wine_train)\n",
    "print(logisticreg2.coef_)"
   ]
  },
  {
   "cell_type": "code",
   "execution_count": 1182,
   "metadata": {},
   "outputs": [
    {
     "name": "stdout",
     "output_type": "stream",
     "text": [
      "[[ 0.70138915  0.56101135 -0.0228401   0.06108897  0.33713621  0.41732971\n",
      "   0.20193455 -0.44841104  0.41576497 -0.57609189 -0.20998202]\n",
      " [ 0.08789092  0.58129244  0.07448247  0.05960521 -0.20291658 -0.9804582\n",
      "   0.34416383 -0.4795491   0.15294369 -0.4278585  -0.63329725]\n",
      " [-0.18335288  0.50907117  0.08764739 -0.47995654  0.05425635 -0.19332628\n",
      "   0.39163754  0.41888783 -0.12970894 -0.262978   -0.88482381]\n",
      " [-0.17252966 -0.44433572 -0.08412713 -0.14644379 -0.01568303  0.08898542\n",
      "  -0.17184239  0.41833638 -0.10535873  0.03744833  0.35126624]\n",
      " [ 0.49783296 -0.59662085 -0.07782281  0.62733052 -0.21563135  0.13857735\n",
      "  -0.29395071 -0.70098856  0.32865392  0.35396696  0.5922314 ]\n",
      " [ 0.16904309 -0.44243801 -0.00308787  0.78996895 -0.1401363   0.28426542\n",
      "  -0.24962998 -0.62386293  0.19358443  0.16674115  0.7097026 ]\n",
      " [ 0.60044156  0.09113707  0.16547409  0.32457498 -0.49898328  0.14162162\n",
      "  -0.03103776 -0.56345807  0.57029561 -0.17994409  0.21563657]]\n"
     ]
    }
   ],
   "source": [
    "logisticreg3 = LogisticRegression(C=1, penalty='l2',solver='liblinear')\n",
    "logisticreg3.fit(X_wine_train_ss, y_wine_train)\n",
    "print(logisticreg3.coef_)"
   ]
  }
 ],
 "metadata": {
  "kernelspec": {
   "display_name": "Python 3",
   "language": "python",
   "name": "python3"
  },
  "language_info": {
   "codemirror_mode": {
    "name": "ipython",
    "version": 3
   },
   "file_extension": ".py",
   "mimetype": "text/x-python",
   "name": "python",
   "nbconvert_exporter": "python",
   "pygments_lexer": "ipython3",
   "version": "3.6.5"
  }
 },
 "nbformat": 4,
 "nbformat_minor": 1
}
